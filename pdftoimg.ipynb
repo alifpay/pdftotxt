{
 "cells": [
  {
   "cell_type": "code",
   "execution_count": 3,
   "metadata": {},
   "outputs": [
    {
     "name": "stdout",
     "output_type": "stream",
     "text": [
      "Collecting pdf2image\n",
      "  Downloading pdf2image-1.17.0-py3-none-any.whl (11 kB)\n",
      "Requirement already satisfied: pillow in /Library/Frameworks/Python.framework/Versions/3.10/lib/python3.10/site-packages (from pdf2image) (10.2.0)\n",
      "Installing collected packages: pdf2image\n",
      "Successfully installed pdf2image-1.17.0\n",
      "\n",
      "\u001b[1m[\u001b[0m\u001b[34;49mnotice\u001b[0m\u001b[1;39;49m]\u001b[0m\u001b[39;49m A new release of pip is available: \u001b[0m\u001b[31;49m23.0.1\u001b[0m\u001b[39;49m -> \u001b[0m\u001b[32;49m23.3.2\u001b[0m\n",
      "\u001b[1m[\u001b[0m\u001b[34;49mnotice\u001b[0m\u001b[1;39;49m]\u001b[0m\u001b[39;49m To update, run: \u001b[0m\u001b[32;49mpip3 install --upgrade pip\u001b[0m\n",
      "Note: you may need to restart the kernel to use updated packages.\n"
     ]
    }
   ],
   "source": [
    "pip install pytesseract\n",
    "pip install PyMuPDF\n"
   ]
  },
  {
   "cell_type": "code",
   "execution_count": 12,
   "metadata": {},
   "outputs": [],
   "source": [
    "import fitz\n",
    "import pytesseract\n",
    "\n",
    "# Open the PDF\n",
    "pdf_doc = fitz.open(\"./pdf/test.pdf\")\n",
    "\n",
    "# Choose a page number (0-based indexing)\n",
    "start_page = 2\n",
    "last_page = pdf_doc.page_count\n",
    "for i in range(start_page, last_page):\n",
    "    try:\n",
    "        # Render the page as an image\n",
    "        page = pdf_doc.load_page(i)\n",
    "        pix = page.get_pixmap()\n",
    "        # Save the image\n",
    "        pix.save(f'./img/image_{i}.png')\n",
    "        text = pytesseract.image_to_string(f'./img/image_{i}.png', lang=\"tgk\")\n",
    "    \n",
    "        with open(f'./txt/test_{i}.txt', \"w\") as file:\n",
    "            file.write(text)\n",
    "    except IOError as e:\n",
    "        print(\"An error occurred while saving the file:\", e)\n",
    "\n"
   ]
  }
 ],
 "metadata": {
  "kernelspec": {
   "display_name": "Python 3",
   "language": "python",
   "name": "python3"
  },
  "language_info": {
   "codemirror_mode": {
    "name": "ipython",
    "version": 3
   },
   "file_extension": ".py",
   "mimetype": "text/x-python",
   "name": "python",
   "nbconvert_exporter": "python",
   "pygments_lexer": "ipython3",
   "version": "3.10.11"
  }
 },
 "nbformat": 4,
 "nbformat_minor": 2
}
